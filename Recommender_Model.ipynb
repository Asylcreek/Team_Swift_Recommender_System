{
  "nbformat": 4,
  "nbformat_minor": 0,
  "metadata": {
    "colab": {
      "name": "Recommender Model.ipynb",
      "provenance": [],
      "include_colab_link": true
    },
    "kernelspec": {
      "name": "python3",
      "display_name": "Python 3"
    }
  },
  "cells": [
    {
      "cell_type": "markdown",
      "metadata": {
        "id": "view-in-github",
        "colab_type": "text"
      },
      "source": [
        "<a href=\"https://colab.research.google.com/github/Asylcreek/Team_Swift_Recommender_System/blob/master/Recommender_Model.ipynb\" target=\"_parent\"><img src=\"https://colab.research.google.com/assets/colab-badge.svg\" alt=\"Open In Colab\"/></a>"
      ]
    },
    {
      "cell_type": "code",
      "metadata": {
        "id": "69u9tYLsDhU8",
        "colab_type": "code",
        "colab": {
          "base_uri": "https://localhost:8080/",
          "height": 118
        },
        "outputId": "a96e5c44-6544-42da-8558-df1d109aa39d"
      },
      "source": [
        "# import files from google drive\n",
        "from google.colab import drive\n",
        "drive.mount('/content/gdrive/')"
      ],
      "execution_count": 1,
      "outputs": [
        {
          "output_type": "stream",
          "text": [
            "Go to this URL in a browser: https://accounts.google.com/o/oauth2/auth?client_id=947318989803-6bn6qk8qdgf4n4g3pfee6491hc0brc4i.apps.googleusercontent.com&redirect_uri=urn%3Aietf%3Awg%3Aoauth%3A2.0%3Aoob&scope=email%20https%3A%2F%2Fwww.googleapis.com%2Fauth%2Fdocs.test%20https%3A%2F%2Fwww.googleapis.com%2Fauth%2Fdrive%20https%3A%2F%2Fwww.googleapis.com%2Fauth%2Fdrive.photos.readonly%20https%3A%2F%2Fwww.googleapis.com%2Fauth%2Fpeopleapi.readonly&response_type=code\n",
            "\n",
            "Enter your authorization code:\n",
            "··········\n",
            "Mounted at /content/gdrive/\n"
          ],
          "name": "stdout"
        }
      ]
    },
    {
      "cell_type": "code",
      "metadata": {
        "id": "UYiGy4gwDleo",
        "colab_type": "code",
        "colab": {}
      },
      "source": [
        "# import all necessary libraries\n",
        "import pandas as pd\n",
        "import numpy as np\n"
      ],
      "execution_count": 0,
      "outputs": []
    },
    {
      "cell_type": "code",
      "metadata": {
        "id": "UzwYNT3YD-Ik",
        "colab_type": "code",
        "colab": {}
      },
      "source": [
        "data = pd.read_csv('/content/gdrive/My Drive/Recommender/users.csv')"
      ],
      "execution_count": 0,
      "outputs": []
    },
    {
      "cell_type": "code",
      "metadata": {
        "id": "ijS3BF1mFXXk",
        "colab_type": "code",
        "colab": {
          "base_uri": "https://localhost:8080/",
          "height": 455
        },
        "outputId": "1254e395-5314-40f5-d000-16035ea2261c"
      },
      "source": [
        "data.head()"
      ],
      "execution_count": 4,
      "outputs": [
        {
          "output_type": "execute_result",
          "data": {
            "text/html": [
              "<div>\n",
              "<style scoped>\n",
              "    .dataframe tbody tr th:only-of-type {\n",
              "        vertical-align: middle;\n",
              "    }\n",
              "\n",
              "    .dataframe tbody tr th {\n",
              "        vertical-align: top;\n",
              "    }\n",
              "\n",
              "    .dataframe thead th {\n",
              "        text-align: right;\n",
              "    }\n",
              "</style>\n",
              "<table border=\"1\" class=\"dataframe\">\n",
              "  <thead>\n",
              "    <tr style=\"text-align: right;\">\n",
              "      <th></th>\n",
              "      <th>id</th>\n",
              "      <th>name</th>\n",
              "      <th>username</th>\n",
              "      <th>email</th>\n",
              "      <th>image</th>\n",
              "      <th>provider</th>\n",
              "      <th>provider_id</th>\n",
              "      <th>password</th>\n",
              "      <th>remember_token</th>\n",
              "      <th>created_at</th>\n",
              "      <th>updated_at</th>\n",
              "      <th>short_bio</th>\n",
              "    </tr>\n",
              "  </thead>\n",
              "  <tbody>\n",
              "    <tr>\n",
              "      <th>0</th>\n",
              "      <td>1</td>\n",
              "      <td>Eniayomi Oluwaseyi</td>\n",
              "      <td>eniayomi</td>\n",
              "      <td>oluwaseyieniayomi@gmail.com</td>\n",
              "      <td>/storage/oluwaseyieniayomi/images//5lxMjdbOVca...</td>\n",
              "      <td>google</td>\n",
              "      <td>100892238782850407484</td>\n",
              "      <td>NaN</td>\n",
              "      <td>79kIhqDiWzqx1i3eFpGMpxfLdPVIvSfv8A3vN2PNEl4ig9...</td>\n",
              "      <td>2019-08-01 17:57:22</td>\n",
              "      <td>2019-08-01 17:57:22</td>\n",
              "      <td>Software Developer | DevOPs Engineer</td>\n",
              "    </tr>\n",
              "    <tr>\n",
              "      <th>1</th>\n",
              "      <td>2</td>\n",
              "      <td>Elijah Okokon</td>\n",
              "      <td>DMatrix</td>\n",
              "      <td>okoelijah@gmail.com</td>\n",
              "      <td>/storage/2/images//DB7axhFJpFUzPuCNPRMQ6X1iNwb...</td>\n",
              "      <td>google</td>\n",
              "      <td>105584000674868760138</td>\n",
              "      <td>NaN</td>\n",
              "      <td>Rz08FtDtdyAp8Cm5XJq5XumgZhEqytSu5MxxyHZYlHBhd0...</td>\n",
              "      <td>2019-08-01 18:05:58</td>\n",
              "      <td>2019-08-01 18:05:58</td>\n",
              "      <td>Web Developer</td>\n",
              "    </tr>\n",
              "    <tr>\n",
              "      <th>2</th>\n",
              "      <td>3</td>\n",
              "      <td>Jeffrey Ogah</td>\n",
              "      <td>jeff.ogah</td>\n",
              "      <td>jeff.ogah@gmail.com</td>\n",
              "      <td>https://lh3.googleusercontent.com/-FQgpN5l_UoY...</td>\n",
              "      <td>google</td>\n",
              "      <td>101235103722282698796</td>\n",
              "      <td>NaN</td>\n",
              "      <td>ZxNMYG05B6RQuSWaJlqlc8bGbPyFxNGNnNf5D86biFix4G...</td>\n",
              "      <td>2019-08-01 20:55:39</td>\n",
              "      <td>2019-08-01 20:55:39</td>\n",
              "      <td>Front End Developer | React Developer | Mentor...</td>\n",
              "    </tr>\n",
              "    <tr>\n",
              "      <th>3</th>\n",
              "      <td>4</td>\n",
              "      <td>Oluwaseyi Oluwapelumi</td>\n",
              "      <td>nathan</td>\n",
              "      <td>nathanoluwaseyi@gmail.com</td>\n",
              "      <td>/storage/4/images/thumbnail/TLWSEBK7C-UMECCGUP...</td>\n",
              "      <td>google</td>\n",
              "      <td>107233455544779563919</td>\n",
              "      <td>NaN</td>\n",
              "      <td>uxbOXr4Cw8tJyilWDKQRhi7TjiV7gBzjMnX0cb4i3ndFu6...</td>\n",
              "      <td>2019-08-02 16:52:47</td>\n",
              "      <td>2019-08-02 16:52:47</td>\n",
              "      <td>| Software Developer | DevOps Engineer | @linu...</td>\n",
              "    </tr>\n",
              "    <tr>\n",
              "      <th>4</th>\n",
              "      <td>5</td>\n",
              "      <td>PoRH</td>\n",
              "      <td>lamar</td>\n",
              "      <td>paulchibiukeigweze@gmail.com</td>\n",
              "      <td>/storage/5/images/thumbnail/images (2)_small_1...</td>\n",
              "      <td>google</td>\n",
              "      <td>103431607062264005570</td>\n",
              "      <td>NaN</td>\n",
              "      <td>EeCB77oXHo3zdZgYTVhWlw2EyHkTtLSJb2PjWFF9RuG7H1...</td>\n",
              "      <td>2019-08-03 11:33:51</td>\n",
              "      <td>2019-08-03 11:33:51</td>\n",
              "      <td>I Am lamar and you don't think am real?</td>\n",
              "    </tr>\n",
              "  </tbody>\n",
              "</table>\n",
              "</div>"
            ],
            "text/plain": [
              "   id  ...                                          short_bio\n",
              "0   1  ...               Software Developer | DevOPs Engineer\n",
              "1   2  ...                                      Web Developer\n",
              "2   3  ...  Front End Developer | React Developer | Mentor...\n",
              "3   4  ...  | Software Developer | DevOps Engineer | @linu...\n",
              "4   5  ...            I Am lamar and you don't think am real?\n",
              "\n",
              "[5 rows x 12 columns]"
            ]
          },
          "metadata": {
            "tags": []
          },
          "execution_count": 4
        }
      ]
    },
    {
      "cell_type": "code",
      "metadata": {
        "id": "CEd8V_iuFaH7",
        "colab_type": "code",
        "colab": {}
      },
      "source": [
        ""
      ],
      "execution_count": 0,
      "outputs": []
    }
  ]
}